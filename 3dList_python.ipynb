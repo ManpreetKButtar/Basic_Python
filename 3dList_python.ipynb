{
 "cells": [
  {
   "cell_type": "code",
   "execution_count": 71,
   "id": "66759b68",
   "metadata": {},
   "outputs": [],
   "source": [
    "student_marks = [['Name',['A','B','C','D','E']], \n",
    "                ['Ankit',[41,34,45,55,63]],\n",
    "                ['Aravind',[42,23,34,44,53]],\n",
    "                ['Lakshay',[32,23,13,54,67]],\n",
    "                ['Gyan',[23,82,23,63,34]],\n",
    "                ['Pranav',[21,23,25,56,56]],\n",
    "                ]\n",
    "\n"
   ]
  },
  {
   "cell_type": "code",
   "execution_count": 72,
   "id": "1e0011cd",
   "metadata": {},
   "outputs": [
    {
     "data": {
      "text/plain": [
       "'Gyan'"
      ]
     },
     "execution_count": 72,
     "metadata": {},
     "output_type": "execute_result"
    }
   ],
   "source": [
    "#Who scored the highest marks in the subject B?\n",
    "student_with_marks_in_B = []\n",
    "\n",
    "for student in student_marks[1:]:\n",
    "    name = student[0]\n",
    "    marks_in_B= student[1][1]\n",
    " \n",
    "    student_with_marks_in_B.append([marks_in_B,name])\n",
    "student_with_marks_in_B\n",
    "sorted(student_with_marks_in_B,reverse=True)[0][1]\n",
    "    "
   ]
  },
  {
   "cell_type": "code",
   "execution_count": 73,
   "id": "fe6a70de",
   "metadata": {},
   "outputs": [
    {
     "data": {
      "text/plain": [
       "28"
      ]
     },
     "execution_count": 73,
     "metadata": {},
     "output_type": "execute_result"
    }
   ],
   "source": [
    "#  What is the average marks scored in the subject C?\n",
    "student_with_marks_in_C = []\n",
    "\n",
    "for student in student_marks[1:]:\n",
    "    marks_in_C= student[1][2]\n",
    "    student_with_marks_in_C.append(marks_in_C)\n",
    "    total_marks_in_C=sum(student_with_marks_in_C)\n",
    "    average_marks_in_C=total_marks_in_C//len(student_with_marks_in_C)\n",
    "    \n",
    "average_marks_in_C"
   ]
  },
  {
   "cell_type": "code",
   "execution_count": 74,
   "id": "cf1ebca6",
   "metadata": {},
   "outputs": [
    {
     "data": {
      "text/plain": [
       "'Ankit'"
      ]
     },
     "execution_count": 74,
     "metadata": {},
     "output_type": "execute_result"
    }
   ],
   "source": [
    "# Who scored the highest percentage of marks?\n",
    "total_marks=[]\n",
    "percentage_marks = []\n",
    "\n",
    "for student in student_marks[1:]:\n",
    "    name=student[0] \n",
    "    marks=student[1]\n",
    "    total_marks=round(sum(marks)*(100/500),2)\n",
    "    percentage_marks.append([total_marks,name])\n",
    "\n",
    "sorted(percentage_marks,reverse=True)[0][1]\n"
   ]
  },
  {
   "cell_type": "code",
   "execution_count": 75,
   "id": "0359193c",
   "metadata": {},
   "outputs": [
    {
     "data": {
      "text/plain": [
       "[[51.0, 'Ankit'],\n",
       " [43.25, 'Aravind'],\n",
       " [44.0, 'Lakshay'],\n",
       " [59.666666666666664, 'Gyan'],\n",
       " [40.0, 'Pranav']]"
      ]
     },
     "execution_count": 75,
     "metadata": {},
     "output_type": "execute_result"
    }
   ],
   "source": [
    "#If considered only top-4 subjects of a candidate, then who scored the highest percentage of marks?\n",
    "best_four_marks = []\n",
    "\n",
    "\n",
    "for student in student_marks[1:]:\n",
    "    name = student[0] \n",
    "    count_1 = 0\n",
    "    summ_1 = 0\n",
    "    for j in student[1]:\n",
    "        if j > min(student[1]):\n",
    "            count_1 += 1\n",
    "            summ_1 += j\n",
    "    avg = summ_1/count_1\n",
    "    best_four_marks.append([avg,name])\n",
    "best_four_marks   \n"
   ]
  }
 ],
 "metadata": {
  "kernelspec": {
   "display_name": "Python 3 (ipykernel)",
   "language": "python",
   "name": "python3"
  },
  "language_info": {
   "codemirror_mode": {
    "name": "ipython",
    "version": 3
   },
   "file_extension": ".py",
   "mimetype": "text/x-python",
   "name": "python",
   "nbconvert_exporter": "python",
   "pygments_lexer": "ipython3",
   "version": "3.10.9"
  }
 },
 "nbformat": 4,
 "nbformat_minor": 5
}
